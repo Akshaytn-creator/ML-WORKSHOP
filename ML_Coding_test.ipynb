{
 "cells": [
  {
   "cell_type": "code",
   "execution_count": null,
   "metadata": {},
   "outputs": [],
   "source": [
    "squares={1:1,2:4,3:9,4:16,5:25}\n",
    "print(squares.pop(4))\n",
    "print(squares)\n",
    "print(squares.popitem())\n",
    "print(squares)"
   ]
  },
  {
   "cell_type": "code",
   "execution_count": null,
   "metadata": {},
   "outputs": [],
   "source": [
    "my_dict={'name':'Jack','age':26}\n",
    "    \n",
    " my_dict['age']=27\n",
    "print(my_dict)\n",
    "my_dict['address']='Downtown'\n",
    "print(my_dict)"
   ]
  },
  {
   "cell_type": "code",
   "execution_count": null,
   "metadata": {},
   "outputs": [],
   "source": [
    "test_list = [([1, 2, 3], 'gfg'), ([5, 4, 3], 'cs')] \n",
    "  \n",
    "# printing original list \n",
    "print(\"The original list : \" + str(test_list)) \n",
    "  \n",
    "# Using list comprehension \n",
    "# Combining tuples in list of tuples \n",
    "res = [ (tup1, tup2) for i, tup2 in test_list for tup1 in i ] \n",
    "  \n",
    "# print result \n",
    "print(\"The list tuple combination : \" + str(res)) "
   ]
  },
  {
   "cell_type": "code",
   "execution_count": null,
   "metadata": {},
   "outputs": [],
   "source": [
    "N = 3 \n",
    "  \n",
    "# printing N \n",
    "print(\"Number of times to repeat : \" + str(N)) \n",
    "  \n",
    "# N element incremental tuples \n",
    "# Using generator expression + tuple \n",
    "res = tuple((ele, ) * N for ele in range(1, 6)) \n",
    "  \n",
    "# printing result \n",
    "print(\"Tuple sequence : \" + str(res)) "
   ]
  },
  {
   "cell_type": "code",
   "execution_count": null,
   "metadata": {},
   "outputs": [],
   "source": []
  }
 ],
 "metadata": {
  "kernelspec": {
   "display_name": "Python 3",
   "language": "python",
   "name": "python3"
  },
  "language_info": {
   "codemirror_mode": {
    "name": "ipython",
    "version": 3
   },
   "file_extension": ".py",
   "mimetype": "text/x-python",
   "name": "python",
   "nbconvert_exporter": "python",
   "pygments_lexer": "ipython3",
   "version": "3.7.3"
  }
 },
 "nbformat": 4,
 "nbformat_minor": 2
}
